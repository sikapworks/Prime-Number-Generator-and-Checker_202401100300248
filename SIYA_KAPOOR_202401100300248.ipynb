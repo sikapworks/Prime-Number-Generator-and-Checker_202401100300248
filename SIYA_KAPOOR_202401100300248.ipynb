{
  "nbformat": 4,
  "nbformat_minor": 0,
  "metadata": {
    "colab": {
      "provenance": []
    },
    "kernelspec": {
      "name": "python3",
      "display_name": "Python 3"
    },
    "language_info": {
      "name": "python"
    }
  },
  "cells": [
    {
      "cell_type": "markdown",
      "source": [
        "Prime Number Generator and Checker"
      ],
      "metadata": {
        "id": "ccMmyLIOmDcT"
      }
    },
    {
      "cell_type": "code",
      "source": [
        "def is_prime(n):\n",
        "    \"\"\"\n",
        "    Check if a number is prime using optimized divisibility rules.\n",
        "\n",
        "    :param n: The number to check\n",
        "    :return: True if n is prime, False otherwise\n",
        "    \"\"\"\n",
        "    if n < 2:\n",
        "        return False\n",
        "    if n in (2, 3):  # 2 and 3 are prime\n",
        "        return True\n",
        "    if n % 2 == 0 or n % 3 == 0:  # Eliminate even numbers & multiples of 3\n",
        "        return False\n",
        "\n",
        "    # Check factors from 5 to sqrt(n), skipping multiples of 2 and 3\n",
        "    for i in range(5, int(n ** 0.5) + 1, 6):\n",
        "        if n % i == 0 or n % (i + 2) == 0:\n",
        "            return False\n",
        "\n",
        "    return True\n",
        "\n",
        "\n",
        "def generate_primes(limit):\n",
        "    \"\"\"\n",
        "    Generate a list of prime numbers up to a given limit using the Sieve of Eratosthenes.\n",
        "\n",
        "    :param limit: The upper limit (inclusive)\n",
        "    :return: A list of prime numbers up to the limit\n",
        "    \"\"\"\n",
        "    if limit < 2:\n",
        "        return []\n",
        "\n",
        "    primes = [True] * (limit + 1)\n",
        "    primes[0] = primes[1] = False  # 0 and 1 are not prime\n",
        "\n",
        "    for num in range(2, int(limit ** 0.5) + 1):\n",
        "        if primes[num]:  # If num is prime, mark its multiples as non-prime\n",
        "            for multiple in range(num * num, limit + 1, num):\n",
        "                primes[multiple] = False\n",
        "\n",
        "    return [i for i, is_prime in enumerate(primes) if is_prime]\n",
        "\n",
        "\n",
        "# Example usage\n",
        "if __name__ == \"__main__\":\n",
        "    # Check if a number is prime\n",
        "    num = int(input(\"Enter a number to check if it's prime: \"))\n",
        "    print(f\"{num} is {'a prime' if is_prime(num) else 'not a prime'} number.\")\n",
        "\n",
        "    # Generate prime numbers up to a limit\n",
        "    limit = int(input(\"Enter the limit to generate prime numbers: \"))\n",
        "    print(f\"Prime numbers up to {limit}: {generate_primes(limit)}\")\n"
      ],
      "metadata": {
        "colab": {
          "base_uri": "https://localhost:8080/"
        },
        "id": "ek68N47BnLbH",
        "outputId": "4c0b4c64-a9da-4044-bef3-9e1333ec1ee1"
      },
      "execution_count": 5,
      "outputs": [
        {
          "output_type": "stream",
          "name": "stdout",
          "text": [
            "Enter a number to check if it's prime: 67\n",
            "67 is a prime number.\n",
            "Enter the limit to generate prime numbers: 88\n",
            "Prime numbers up to 88: [2, 3, 5, 7, 11, 13, 17, 19, 23, 29, 31, 37, 41, 43, 47, 53, 59, 61, 67, 71, 73, 79, 83]\n"
          ]
        }
      ]
    }
  ]
}